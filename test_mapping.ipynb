{
 "cells": [
  {
   "cell_type": "code",
   "execution_count": 2,
   "metadata": {},
   "outputs": [],
   "source": [
    "import numpy as np"
   ]
  },
  {
   "cell_type": "code",
   "execution_count": 132,
   "metadata": {},
   "outputs": [],
   "source": [
    "class Mapping(object):\n",
    "    \n",
    "    def __init__(self, mapping_level, use_proba):\n",
    "        self.mapping_level = mapping_level # This cn be \"pixel\" or \"object\".\n",
    "        self.use_proba = use_proba # This can be True if the classifier is computed using the probabilities, and False otherwise.\n",
    "        \n",
    "        \n",
    "    ## Maybe add something to pre-process the dataset.\n",
    "        \n",
    "        \n",
    "    def train(self, train_samples, train_labels, to_save = False, save_file = 'mapping_output.npy'):\n",
    "       \n",
    "        ### Create the matrices that we will use for future predictions.\n",
    "        \n",
    "        #self.object_proba = np.array((train_samples.shape[1], 1))\n",
    "        (self.privacy_classes, counts) = np.unique(train_labels, return_counts=True)\n",
    "        #self.privacy_class_proba = np.array((len(self.privacy_classes), 1))\n",
    "        self.object_knowing_privacy = np.zeros((train_samples.shape[1], self.privacy_classes.shape[0]))\n",
    "        self.privacy_knowing_object = np.array((len(self.privacy_classes), train_samples.shape[1])) # Maybe only this one should be saved.\n",
    "        \n",
    "        \n",
    "        ### Populate the matrices\n",
    "        \n",
    "        nb_samples = train_samples.shape[0]\n",
    "        # Get the object probabilities.\n",
    "        self.object_proba = np.sum(train_samples, axis=0) / nb_samples\n",
    "    \n",
    "        self.privacy_class_proba = np.asarray(counts)\n",
    "        \n",
    "        for i in range(0, train_samples.shape[1]):\n",
    "            for j in range(0, self.privacy_classes.shape[0]):\n",
    "                # Compute how many times we have object i as privacy j\n",
    "                nb_obj_priv = 0\n",
    "                for row in range(0, train_labels.shape[0]):\n",
    "                    if train_labels[row] == self.privacy_classes[j]:\n",
    "                        nb_obj_priv += train_samples[row, i]\n",
    "                self.object_knowing_privacy[i, j] = nb_obj_priv / self.privacy_class_proba[j]\n",
    "        self.privacy_class_proba = self.privacy_class_proba / nb_samples\n",
    "        inverse_mat = np.expand_dims(np.reciprocal(self.object_proba), axis=1)\n",
    "        repeat_inverse_object = np.repeat(inverse_mat, len(self.privacy_classes), axis = 1)\n",
    "        repeat_privacy = np.repeat(np.expand_dims(self.privacy_class_proba, axis=0), train_samples.shape[1], axis=0)\n",
    "        self.privacy_knowing_object = np.multiply(np.multiply(self.object_knowing_privacy, repeat_privacy), repeat_inverse_object)\n",
    "        \n",
    "        # SAve into a file for future use.\n",
    "        if to_save:\n",
    "            np.save(save_file, self.privacy_knowing_object) \n",
    "            np.save('classes_' + save_file, self.privacy_classes) \n",
    "        \n",
    "    def evaluate(self, test_samples, test_labels):\n",
    "        print(\"TODO\")\n",
    "        \n",
    "    def predict(self):\n",
    "        print(\"TODO\")"
   ]
  },
  {
   "cell_type": "code",
   "execution_count": 133,
   "metadata": {},
   "outputs": [],
   "source": [
    "# Test training on a toy example\n",
    "train_samples = np.array([[0.7, 0.3, 0, 0], [0, 0, 1, 0], [0.8, 0, 0, 0.2]])\n",
    "train_labels = np.array([1, 1, 2])"
   ]
  },
  {
   "cell_type": "code",
   "execution_count": 134,
   "metadata": {},
   "outputs": [
    {
     "name": "stdout",
     "output_type": "stream",
     "text": [
      "[[0.7 0.3 0.  0. ]\n",
      " [0.  0.  1.  0. ]\n",
      " [0.8 0.  0.  0.2]]\n",
      "[1 1 2]\n"
     ]
    }
   ],
   "source": [
    "print(train_samples)\n",
    "print(train_labels)"
   ]
  },
  {
   "cell_type": "code",
   "execution_count": 135,
   "metadata": {},
   "outputs": [],
   "source": [
    "map = Mapping('object', True)"
   ]
  },
  {
   "cell_type": "code",
   "execution_count": 136,
   "metadata": {},
   "outputs": [
    {
     "name": "stdout",
     "output_type": "stream",
     "text": [
      "object proba\n",
      "[0.5        0.1        0.33333333 0.06666667]\n",
      "privacy proba\n",
      "(2,)\n",
      "[[0.35 0.8 ]\n",
      " [0.15 0.  ]\n",
      " [0.5  0.  ]\n",
      " [0.   0.2 ]]\n",
      "inverse  (4, 1)\n",
      "Inverse object:  [[ 2.  2.]\n",
      " [10. 10.]\n",
      " [ 3.  3.]\n",
      " [15. 15.]]\n",
      "REpeat privacy  (4, 2)\n",
      "[[0.46666667 0.53333333]\n",
      " [1.         0.        ]\n",
      " [1.         0.        ]\n",
      " [0.         1.        ]]\n",
      "TODO\n"
     ]
    }
   ],
   "source": [
    "map.train(train_samples, train_labels)"
   ]
  },
  {
   "cell_type": "code",
   "execution_count": null,
   "metadata": {},
   "outputs": [],
   "source": []
  },
  {
   "cell_type": "code",
   "execution_count": null,
   "metadata": {},
   "outputs": [],
   "source": []
  }
 ],
 "metadata": {
  "kernelspec": {
   "display_name": "privacy_image_3_7",
   "language": "python",
   "name": "privacy_image_3_7"
  },
  "language_info": {
   "codemirror_mode": {
    "name": "ipython",
    "version": 3
   },
   "file_extension": ".py",
   "mimetype": "text/x-python",
   "name": "python",
   "nbconvert_exporter": "python",
   "pygments_lexer": "ipython3",
   "version": "3.7.6"
  }
 },
 "nbformat": 4,
 "nbformat_minor": 4
}
