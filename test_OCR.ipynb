{
 "cells": [
  {
   "cell_type": "code",
   "execution_count": 1,
   "metadata": {},
   "outputs": [],
   "source": [
    "from PIL import Image\n",
    "import pytesseract\n",
    "from pathlib import Path\n",
    "import os.path\n",
    "from os import path\n",
    "\n",
    "# If you don't have tesseract executable in your PATH, include the following:\n",
    "pytesseract.pytesseract.tesseract_cmd = r'C:\\Program Files\\Tesseract-OCR\\tesseract.exe' # Path('C:/Program Files\\ Tesseract-OCR\\ tesseract').as_posix()\n",
    "# Example tesseract_cmd = r'C:\\Program Files (x86)\\Tesseract-OCR\\tesseract'"
   ]
  },
  {
   "cell_type": "code",
   "execution_count": 2,
   "metadata": {
    "scrolled": true
   },
   "outputs": [
    {
     "name": "stdout",
     "output_type": "stream",
     "text": [
      "\n",
      "Every morning\n",
      "is special and\n",
      "you will not get\n",
      "them again. Sle,\n",
      ": a\"\n",
      "\n",
      "  \n",
      "\n",
      "“~ Good morning my\n",
      "dear friend!\n",
      "E 8 164 16 183 0\n",
      "v 14 165 23 173 0\n",
      "e 21 160 29 183 0\n",
      "r 22 160 45 173 0\n",
      "y 36 160 44 183 0\n",
      "m 49 165 68 173 0\n",
      "o 59 160 67 176 0\n",
      "r 66 160 74 176 0\n",
      "n 74 160 82 176 0\n",
      "i 68 160 104 176 0\n",
      "n 89 160 97 176 0\n",
      "g 96 160 104 176 0\n",
      "i 14 140 17 151 0\n",
      "s 18 140 24 148 0\n",
      "s 29 135 33 153 0\n",
      "p 32 135 39 153 0\n",
      "e 38 135 47 153 0\n",
      "c 27 135 66 151 0\n",
      "i 52 135 59 153 0\n",
      "a 58 135 64 153 0\n",
      "l 68 140 98 153 0\n",
      "a 78 130 84 164 0\n",
      "n 83 130 90 164 0\n",
      "d 89 130 101 164 0\n",
      "y 0 105 10 134 0\n",
      "o 4 111 25 124 0\n",
      "u 16 105 25 134 0\n",
      "w 31 115 43 124 0\n",
      "i 38 105 44 134 0\n",
      "l 44 115 47 126 0\n",
      "l 49 115 57 128 0\n",
      "n 62 105 71 134 0\n",
      "o 62 115 78 124 0\n",
      "t 78 115 83 126 0\n",
      "g 89 111 94 125 0\n",
      "e 94 115 102 123 0\n",
      "t 102 115 108 126 0\n",
      "t 13 81 23 111 0\n",
      "h 23 81 31 111 0\n",
      "e 17 90 46 103 0\n",
      "m 38 81 46 111 0\n",
      "a 53 81 61 111 0\n",
      "g 54 86 69 100 0\n",
      "a 68 90 76 99 0\n",
      "i 77 90 80 102 0\n",
      "n 80 81 86 111 0\n",
      ". 81 90 91 99 0\n",
      "S 219 83 247 122 0\n",
      "l 236 74 246 126 0\n",
      "e 248 93 263 111 0\n",
      ", 260 86 272 96 0\n",
      ": 36 76 38 78 0\n",
      "a 209 66 239 99 0\n",
      "\" 241 67 272 96 0\n",
      "~ 0 25 89 69 0\n",
      "~ 0 0 89 25 0\n",
      "“ 89 49 96 57 0\n",
      "~ 89 49 108 57 0\n",
      "G 128 41 137 58 0\n",
      "o 136 41 148 58 0\n",
      "o 128 41 168 58 0\n",
      "d 157 41 168 58 0\n",
      "m 178 36 186 56 0\n",
      "o 173 42 218 53 0\n",
      "r 196 36 204 56 0\n",
      "n 203 36 215 56 0\n",
      "i 214 36 222 56 0\n",
      "n 219 42 223 56 0\n",
      "g 224 36 244 54 0\n",
      "m 248 42 264 53 0\n",
      "y 263 36 273 53 0\n",
      "d 149 10 159 26 0\n",
      "e 155 10 165 26 0\n",
      "a 165 10 173 26 0\n",
      "r 159 10 188 21 0\n",
      "f 192 10 201 26 0\n",
      "r 202 10 211 21 0\n",
      "i 212 10 216 24 0\n",
      "e 217 10 227 21 0\n",
      "n 227 10 235 26 0\n",
      "d 227 10 247 26 0\n",
      "! 248 10 252 26 0\n"
     ]
    }
   ],
   "source": [
    "# Simple image to string\n",
    "print(pytesseract.image_to_string(Image.open('guy_with_letters.png')))\n",
    "print(pytesseract.image_to_string(Image.open('image_text_2.jfif')))\n",
    "print(pytesseract.image_to_boxes(Image.open('image_text_2.jfif')))\n"
   ]
  },
  {
   "cell_type": "code",
   "execution_count": 3,
   "metadata": {},
   "outputs": [],
   "source": [
    "# Pre-processing to improve tesseract accuracy\n",
    "import cv2\n",
    "import numpy as np\n",
    "\n",
    "\n",
    "# get grayscale image\n",
    "def get_grayscale(image):\n",
    "    return cv2.cvtColor(image, cv2.COLOR_BGR2GRAY)\n",
    "\n",
    "# noise removal\n",
    "def remove_noise(image):\n",
    "    return cv2.medianBlur(image,5)\n",
    " \n",
    "#thresholding\n",
    "def thresholding(image):\n",
    "    return cv2.threshold(image, 0, 255, cv2.THRESH_BINARY + cv2.THRESH_OTSU)[1]\n",
    "\n",
    "#dilation\n",
    "def dilate(image):\n",
    "    kernel = np.ones((5,5),np.uint8)\n",
    "    return cv2.dilate(image, kernel, iterations = 1)\n",
    "    \n",
    "#erosion\n",
    "def erode(image):\n",
    "    kernel = np.ones((5,5),np.uint8)\n",
    "    return cv2.erode(image, kernel, iterations = 1)\n",
    "\n",
    "#opening - erosion followed by dilation\n",
    "def opening(image):\n",
    "    kernel = np.ones((5,5),np.uint8)\n",
    "    return cv2.morphologyEx(image, cv2.MORPH_OPEN, kernel)\n",
    "\n",
    "#canny edge detection\n",
    "def canny(image):\n",
    "    return cv2.Canny(image, 100, 200)\n",
    "\n",
    "#skew correction\n",
    "def deskew(image):\n",
    "    coords = np.column_stack(np.where(image > 0))\n",
    "    angle = cv2.minAreaRect(coords)[-1]\n",
    "    if angle < -45:\n",
    "        angle = -(90 + angle)\n",
    "    else:\n",
    "        angle = -angle\n",
    "    (h, w) = image.shape[:2]\n",
    "    center = (w // 2, h // 2)\n",
    "    M = cv2.getRotationMatrix2D(center, angle, 1.0)\n",
    "    rotated = cv2.warpAffine(image, M, (w, h), flags=cv2.INTER_CUBIC, borderMode=cv2.BORDER_REPLICATE)\n",
    "    return rotated\n",
    "\n",
    "#template matching\n",
    "def match_template(image, template):\n",
    "    return cv2.matchTemplate(image, template, cv2.TM_CCOEFF_NORMED) "
   ]
  },
  {
   "cell_type": "code",
   "execution_count": 4,
   "metadata": {},
   "outputs": [
    {
     "name": "stdout",
     "output_type": "stream",
     "text": [
      "Every morning\n",
      "is special and\n",
      "you will not get\n",
      "them again.\n",
      "\n",
      "ge\n",
      "\n",
      " \n",
      "\n",
      "Se.\n",
      "Fay\n",
      "Good morning my\n",
      "dear friend!\n",
      "Every morning\n",
      "is special and\n",
      "you will not get\n",
      "them again.\n",
      "\n",
      "pe\n",
      "\n",
      " \n",
      "\n",
      "Se.\n",
      "fay\n",
      "Good morning my\n",
      "dear Friend!\n",
      "veel gt\n",
      "\n",
      "(Ao an\n",
      "a eae\n",
      "occu) a\n",
      "Peer ae\n",
      "i\n",
      "Demat 7 Sie.\n",
      "\n",
      "oe ares\n",
      "aL)\n",
      "dear Friend\n"
     ]
    }
   ],
   "source": [
    "image = cv2.imread('image_text_2.jfif')\n",
    "gray = get_grayscale(image)\n",
    "print(pytesseract.image_to_string(gray))\n",
    "thresh = thresholding(gray)\n",
    "print(pytesseract.image_to_string(thresh)) # Seems to work best.\n",
    "opening = opening(gray)\n",
    "print(pytesseract.image_to_string(opening))\n",
    "canny = canny(gray)\n",
    "print(pytesseract.image_to_string(canny))"
   ]
  },
  {
   "cell_type": "code",
   "execution_count": 5,
   "metadata": {},
   "outputs": [
    {
     "data": {
      "text/plain": [
       "-1"
      ]
     },
     "execution_count": 5,
     "metadata": {},
     "output_type": "execute_result"
    }
   ],
   "source": [
    "# Plot bounding boxes around each character\n",
    "\n",
    "import cv2\n",
    "import pytesseract\n",
    "\n",
    "# Original image\n",
    "image = cv2.imread('image_text_2.jfif')\n",
    "# Image to find bounding boxes\n",
    "gray = get_grayscale(image)\n",
    "thresh = thresholding(gray)\n",
    "\n",
    "h, w, c = image.shape\n",
    "boxes = pytesseract.image_to_boxes(thresh) \n",
    "for b in boxes.splitlines():\n",
    "    b = b.split(' ')\n",
    "    image = cv2.rectangle(image, (int(b[1]), h - int(b[2])), (int(b[3]), h - int(b[4])), (0, 255, 0), 2)\n",
    "\n",
    "cv2.imshow('img', image)\n",
    "cv2.waitKey(0)"
   ]
  },
  {
   "cell_type": "code",
   "execution_count": 6,
   "metadata": {},
   "outputs": [
    {
     "name": "stdout",
     "output_type": "stream",
     "text": [
      "dict_keys(['level', 'page_num', 'block_num', 'par_num', 'line_num', 'word_num', 'left', 'top', 'width', 'height', 'conf', 'text'])\n"
     ]
    },
    {
     "data": {
      "text/plain": [
       "-1"
      ]
     },
     "execution_count": 6,
     "metadata": {},
     "output_type": "execute_result"
    }
   ],
   "source": [
    "# Plot bounding box around words\n",
    "from pytesseract import Output\n",
    "\n",
    "img = cv2.imread('image_text_2.jfif')\n",
    "\n",
    "gray = get_grayscale(img)\n",
    "thresh = thresholding(gray)\n",
    "d = pytesseract.image_to_data(thresh, output_type=Output.DICT)\n",
    "print(d.keys())\n",
    "\n",
    "n_boxes = len(d['text'])\n",
    "for i in range(n_boxes):\n",
    "    if int(d['conf'][i]) > 60:\n",
    "        (x, y, w, h) = (d['left'][i], d['top'][i], d['width'][i], d['height'][i])\n",
    "        img = cv2.rectangle(img, (x, y), (x + w, y + h), (0, 255, 0), 2)\n",
    "\n",
    "cv2.imshow('img', img)\n",
    "cv2.waitKey(0)"
   ]
  },
  {
   "cell_type": "code",
   "execution_count": 7,
   "metadata": {},
   "outputs": [
    {
     "data": {
      "text/plain": [
       "-1"
      ]
     },
     "execution_count": 7,
     "metadata": {},
     "output_type": "execute_result"
    }
   ],
   "source": [
    "cv2.imshow('img', gray)\n",
    "cv2.waitKey(0)"
   ]
  },
  {
   "cell_type": "code",
   "execution_count": null,
   "metadata": {},
   "outputs": [],
   "source": []
  }
 ],
 "metadata": {
  "kernelspec": {
   "display_name": "privacy_image_3_7",
   "language": "python",
   "name": "privacy_image_3_7"
  },
  "language_info": {
   "codemirror_mode": {
    "name": "ipython",
    "version": 3
   },
   "file_extension": ".py",
   "mimetype": "text/x-python",
   "name": "python",
   "nbconvert_exporter": "python",
   "pygments_lexer": "ipython3",
   "version": "3.7.6"
  }
 },
 "nbformat": 4,
 "nbformat_minor": 4
}
