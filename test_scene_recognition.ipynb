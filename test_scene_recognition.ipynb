{
 "cells": [
  {
   "cell_type": "code",
   "execution_count": 6,
   "metadata": {},
   "outputs": [],
   "source": [
    "# Taken from https://github.com/GKalliatakis/Keras-VGG16-places365\n",
    "import os\n",
    "import urllib.request\n",
    "import numpy as np\n",
    "from PIL import Image\n",
    "from cv2 import resize\n",
    "from pathlib import Path\n",
    "\n",
    "from Keras_VGG16_places365.vgg16_places_365 import VGG16_Places365"
   ]
  },
  {
   "cell_type": "code",
   "execution_count": 2,
   "metadata": {},
   "outputs": [],
   "source": [
    "TEST_IMAGE_URL = 'http://places2.csail.mit.edu/imgs/demo/6.jpg'\n",
    "\n",
    "image = Image.open(urllib.request.urlopen(TEST_IMAGE_URL))\n",
    "image = np.array(image, dtype=np.uint8)\n",
    "image = resize(image, (224, 224))\n",
    "image = np.expand_dims(image, 0)"
   ]
  },
  {
   "cell_type": "code",
   "execution_count": 14,
   "metadata": {},
   "outputs": [],
   "source": [
    "model = VGG16_Places365(weights='places')\n",
    "predictions_to_return = 5\n",
    "preds = model.predict(image)[0]\n",
    "top_preds = np.argsort(preds)[::-1][0:predictions_to_return]\n",
    "top_preds_score = [preds[i] for i in top_preds]"
   ]
  },
  {
   "cell_type": "code",
   "execution_count": null,
   "metadata": {},
   "outputs": [],
   "source": [
    "# load the class label\n",
    "file_name = Path('Keras_VGG16_places365/categories_places365.txt')\n",
    "if not os.access(file_name, os.W_OK):\n",
    "    synset_url = 'https://raw.githubusercontent.com/csailvision/places365/master/categories_places365.txt'\n",
    "    os.system('wget ' + synset_url)\n",
    "classes = list()\n",
    "with open(file_name) as class_file:\n",
    "    for line in class_file:\n",
    "        classes.append(line.strip().split(' ')[0][3:])\n",
    "classes = tuple(classes)\n",
    "\n",
    "print('--SCENE CATEGORIES:')\n",
    "# output the prediction\n",
    "for i in range(0, 5):\n",
    "    print(classes[top_preds[i]], \" \", top_preds_score[i])"
   ]
  },
  {
   "cell_type": "code",
   "execution_count": null,
   "metadata": {},
   "outputs": [],
   "source": []
  },
  {
   "cell_type": "code",
   "execution_count": null,
   "metadata": {},
   "outputs": [],
   "source": []
  },
  {
   "cell_type": "code",
   "execution_count": null,
   "metadata": {},
   "outputs": [],
   "source": []
  }
 ],
 "metadata": {
  "kernelspec": {
   "display_name": "privacy_image_3_7",
   "language": "python",
   "name": "privacy_image_3_7"
  },
  "language_info": {
   "codemirror_mode": {
    "name": "ipython",
    "version": 3
   },
   "file_extension": ".py",
   "mimetype": "text/x-python",
   "name": "python",
   "nbconvert_exporter": "python",
   "pygments_lexer": "ipython3",
   "version": "3.7.6"
  }
 },
 "nbformat": 4,
 "nbformat_minor": 4
}
