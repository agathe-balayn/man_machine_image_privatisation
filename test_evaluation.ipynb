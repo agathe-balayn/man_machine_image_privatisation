{
 "cells": [
  {
   "cell_type": "code",
   "execution_count": 1,
   "metadata": {},
   "outputs": [
    {
     "name": "stderr",
     "output_type": "stream",
     "text": [
      "Using TensorFlow backend.\n"
     ]
    }
   ],
   "source": [
    "import os\n",
    "from pathlib import Path\n",
    "from PIL import Image\n",
    "import cv2\n",
    "import numpy as np\n",
    "import json\n",
    "from shapely.geometry import Polygon\n",
    "import image_slicer\n",
    "\n",
    "# DeepLab code:\n",
    "# taken from https://gluon-cv.mxnet.io/build/examples_segmentation/demo_deeplab.html\n",
    "# dataset description https://groups.csail.mit.edu/vision/datasets/ADE20K/, https://github.com/dmlc/gluon-cv/blob/master/gluoncv/data/ade20k/segmentation.py\n",
    "# deeplab code https://github.com/dmlc/gluon-cv/blob/master/gluoncv/model_zoo/deeplabv3.py\n",
    "\n",
    "import mxnet as mx\n",
    "from mxnet import image\n",
    "from mxnet.gluon.data.vision import transforms\n",
    "import gluoncv\n",
    "from gluoncv.data.transforms.presets.segmentation import test_transform\n",
    "# using cpu\n",
    "ctx = mx.cpu(0)\n",
    "\n",
    "# OCR code\n",
    "import pytesseract\n",
    "from pytesseract import Output\n",
    "\n",
    "\n",
    "# If you don't have tesseract executable in your PATH, include the following:\n",
    "pytesseract.pytesseract.tesseract_cmd = r'C:\\Program Files\\Tesseract-OCR\\tesseract.exe' # Path('C:/Program Files\\ Tesseract-OCR\\ tesseract').as_posix()\n",
    "\n",
    "\n",
    "# Scene recognition imports\n",
    "from Keras_VGG16_places365.vgg16_places_365 import VGG16_Places365\n",
    "from cv2 import resize\n",
    "\n",
    "\n",
    "import evaluation_utils as eval_u\n",
    "import deeplab_utils as dl_u"
   ]
  },
  {
   "cell_type": "code",
   "execution_count": 2,
   "metadata": {},
   "outputs": [],
   "source": [
    "image_list_deeplab, list_image_names_deeplab = eval_u.prepare_dataset('../small_10_test2017/', 'deeplab')"
   ]
  },
  {
   "cell_type": "code",
   "execution_count": null,
   "metadata": {},
   "outputs": [
    {
     "name": "stdout",
     "output_type": "stream",
     "text": [
      "Currently treating image number  1\n",
      "Currently treating image number  2\n",
      "Currently treating image number  3\n",
      "Currently treating image number  4\n"
     ]
    }
   ],
   "source": [
    "model_deeplab = eval_u.load_model('deeplab')\n",
    "output_pred_deeplab = eval_u.get_predictions(image_list_deeplab, 'deeplab', model_deeplab)"
   ]
  },
  {
   "cell_type": "code",
   "execution_count": null,
   "metadata": {},
   "outputs": [],
   "source": [
    "print(output_pred_deeplab[0].shape)"
   ]
  },
  {
   "cell_type": "code",
   "execution_count": null,
   "metadata": {},
   "outputs": [],
   "source": [
    "#outp = mx.nd.squeeze(mx.nd.argmax(output_pred_deeplab[0], 1)).asnumpy()\n"
   ]
  },
  {
   "cell_type": "code",
   "execution_count": 7,
   "metadata": {},
   "outputs": [
    {
     "name": "stdout",
     "output_type": "stream",
     "text": [
      "prepare masks\n",
      "Conpute unque masks.\n",
      "mask computed\n",
      "[  0.   2.  12.  14.  21.  26.  34. 126.]\n",
      "prepare list polygons\n"
     ]
    }
   ],
   "source": [
    "output = dl_u.deeplab_pred_to_output(outp)"
   ]
  },
  {
   "cell_type": "code",
   "execution_count": 10,
   "metadata": {},
   "outputs": [],
   "source": [
    "def simple_rule_based_obfuscation(output_deeplab):\n",
    "    # Later we can save other things like the \"sky\" to decide to hide it\n",
    "    true_output = []\n",
    "    for poly in output_deeplab:\n",
    "        if (poly[1] == \"person, individual, someone, somebody, mortal, soul\") or (poly[1] == \"bookcase\") or (poly[1] == \"computer, computing machine, computing device, data processor, \") or (poly[1] == \"trade name, brand name, brand, marque\") :\n",
    "            true_output.append(poly)\n",
    "    return true_output"
   ]
  },
  {
   "cell_type": "code",
   "execution_count": null,
   "metadata": {},
   "outputs": [],
   "source": [
    "print(type(output_pred_deeplab[0]))"
   ]
  },
  {
   "cell_type": "code",
   "execution_count": 8,
   "metadata": {},
   "outputs": [
    {
     "name": "stdout",
     "output_type": "stream",
     "text": [
      "[([<shapely.geometry.polygon.Polygon object at 0x0000020281C99D88>, <shapely.geometry.polygon.Polygon object at 0x00000202F84AA048>, <shapely.geometry.polygon.Polygon object at 0x0000020281C99EC8>, <shapely.geometry.polygon.Polygon object at 0x0000020281C99F08>, <shapely.geometry.polygon.Polygon object at 0x0000020281C99F48>, <shapely.geometry.polygon.Polygon object at 0x0000020281C99E88>, <shapely.geometry.polygon.Polygon object at 0x0000020281C99FC8>, <shapely.geometry.polygon.Polygon object at 0x0000020281C99E48>, <shapely.geometry.polygon.Polygon object at 0x0000020281C99DC8>, <shapely.geometry.polygon.Polygon object at 0x0000020281C99F88>, <shapely.geometry.polygon.Polygon object at 0x0000020282CCD0C8>, <shapely.geometry.polygon.Polygon object at 0x0000020282CCD148>, <shapely.geometry.polygon.Polygon object at 0x0000020282CCD188>, <shapely.geometry.polygon.Polygon object at 0x0000020282CCD1C8>, <shapely.geometry.polygon.Polygon object at 0x0000020282CCD208>, <shapely.geometry.polygon.Polygon object at 0x0000020282CCD248>, <shapely.geometry.polygon.Polygon object at 0x0000020282CCD288>, <shapely.geometry.polygon.Polygon object at 0x0000020282CCD2C8>, <shapely.geometry.polygon.Polygon object at 0x0000020282CCD308>, <shapely.geometry.polygon.Polygon object at 0x0000020282CCD348>, <shapely.geometry.polygon.Polygon object at 0x0000020282CCD388>, <shapely.geometry.polygon.Polygon object at 0x0000020282CCD3C8>, <shapely.geometry.polygon.Polygon object at 0x0000020282CCD408>, <shapely.geometry.polygon.Polygon object at 0x0000020282CCD448>, <shapely.geometry.polygon.Polygon object at 0x0000020282CCD488>, <shapely.geometry.polygon.Polygon object at 0x0000020282CCD4C8>, <shapely.geometry.polygon.Polygon object at 0x0000020282CCD508>, <shapely.geometry.polygon.Polygon object at 0x0000020282CCD548>, <shapely.geometry.polygon.Polygon object at 0x0000020282CCD588>, <shapely.geometry.polygon.Polygon object at 0x0000020282CCD5C8>, <shapely.geometry.polygon.Polygon object at 0x0000020282CCD608>, <shapely.geometry.polygon.Polygon object at 0x0000020282CCD648>, <shapely.geometry.polygon.Polygon object at 0x0000020282CCD688>, <shapely.geometry.polygon.Polygon object at 0x0000020282CCD6C8>, <shapely.geometry.polygon.Polygon object at 0x0000020282CCD708>], 'wall'), ([<shapely.geometry.polygon.Polygon object at 0x0000020281C99C48>, <shapely.geometry.polygon.Polygon object at 0x0000020281C99648>, <shapely.geometry.polygon.Polygon object at 0x0000020281C99948>, <shapely.geometry.polygon.Polygon object at 0x0000020282CCD808>, <shapely.geometry.polygon.Polygon object at 0x0000020282CCD848>, <shapely.geometry.polygon.Polygon object at 0x0000020282CCD788>, <shapely.geometry.polygon.Polygon object at 0x0000020282CCD908>, <shapely.geometry.polygon.Polygon object at 0x0000020282CCD948>, <shapely.geometry.polygon.Polygon object at 0x0000020282CCD988>, <shapely.geometry.polygon.Polygon object at 0x0000020282CCD888>, <shapely.geometry.polygon.Polygon object at 0x0000020282CCD8C8>, <shapely.geometry.polygon.Polygon object at 0x0000020282CCDA08>, <shapely.geometry.polygon.Polygon object at 0x0000020282CCDA48>, <shapely.geometry.polygon.Polygon object at 0x0000020282CCDA88>, <shapely.geometry.polygon.Polygon object at 0x0000020282CCDAC8>, <shapely.geometry.polygon.Polygon object at 0x0000020282CCDB08>, <shapely.geometry.polygon.Polygon object at 0x0000020282CCDB48>, <shapely.geometry.polygon.Polygon object at 0x0000020282CCDB88>, <shapely.geometry.polygon.Polygon object at 0x0000020282CCDBC8>, <shapely.geometry.polygon.Polygon object at 0x0000020282CCDC08>, <shapely.geometry.polygon.Polygon object at 0x0000020282CCDC48>, <shapely.geometry.polygon.Polygon object at 0x0000020282CCDC88>, <shapely.geometry.polygon.Polygon object at 0x0000020281C99A88>, <shapely.geometry.polygon.Polygon object at 0x0000020282CCD748>, <shapely.geometry.polygon.Polygon object at 0x0000020282CCDE08>, <shapely.geometry.polygon.Polygon object at 0x0000020282CCDE48>, <shapely.geometry.polygon.Polygon object at 0x0000020282CCDD48>, <shapely.geometry.polygon.Polygon object at 0x0000020282CCDE88>, <shapely.geometry.polygon.Polygon object at 0x0000020282CCDEC8>, <shapely.geometry.polygon.Polygon object at 0x0000020282CCDF48>, <shapely.geometry.polygon.Polygon object at 0x0000020282CCDF88>, <shapely.geometry.polygon.Polygon object at 0x0000020282CCDD88>, <shapely.geometry.polygon.Polygon object at 0x0000020282CCDF08>, <shapely.geometry.polygon.Polygon object at 0x0000020282CCDFC8>, <shapely.geometry.polygon.Polygon object at 0x0000020282CCDDC8>, <shapely.geometry.polygon.Polygon object at 0x0000020282CCD9C8>, <shapely.geometry.polygon.Polygon object at 0x0000020282CCD7C8>, <shapely.geometry.polygon.Polygon object at 0x0000020282CD0108>, <shapely.geometry.polygon.Polygon object at 0x0000020282CD0148>, <shapely.geometry.polygon.Polygon object at 0x0000020282CD0188>, <shapely.geometry.polygon.Polygon object at 0x0000020282CD01C8>, <shapely.geometry.polygon.Polygon object at 0x0000020282CD0208>, <shapely.geometry.polygon.Polygon object at 0x0000020282CD0248>, <shapely.geometry.polygon.Polygon object at 0x0000020282CD0288>, <shapely.geometry.polygon.Polygon object at 0x0000020282CD02C8>, <shapely.geometry.polygon.Polygon object at 0x0000020282CD0308>, <shapely.geometry.polygon.Polygon object at 0x0000020282CD0348>, <shapely.geometry.polygon.Polygon object at 0x0000020282CD0388>, <shapely.geometry.polygon.Polygon object at 0x0000020282CD03C8>, <shapely.geometry.polygon.Polygon object at 0x0000020282CD0408>, <shapely.geometry.polygon.Polygon object at 0x0000020282CD0448>, <shapely.geometry.polygon.Polygon object at 0x0000020282CD0488>, <shapely.geometry.polygon.Polygon object at 0x0000020282CD04C8>, <shapely.geometry.polygon.Polygon object at 0x0000020282CD0508>, <shapely.geometry.polygon.Polygon object at 0x0000020282CD0548>, <shapely.geometry.polygon.Polygon object at 0x0000020282CD0588>, <shapely.geometry.polygon.Polygon object at 0x0000020282CD05C8>], 'sky'), ([<shapely.geometry.polygon.Polygon object at 0x0000020282CCDD08>, <shapely.geometry.polygon.Polygon object at 0x0000020282CCD108>, <shapely.geometry.polygon.Polygon object at 0x0000020282CCD088>, <shapely.geometry.polygon.Polygon object at 0x0000020282CCD048>, <shapely.geometry.polygon.Polygon object at 0x0000020282CD06C8>, <shapely.geometry.polygon.Polygon object at 0x0000020282CD0688>, <shapely.geometry.polygon.Polygon object at 0x0000020282CD0788>, <shapely.geometry.polygon.Polygon object at 0x0000020282CD07C8>, <shapely.geometry.polygon.Polygon object at 0x0000020282CD0808>, <shapely.geometry.polygon.Polygon object at 0x0000020282CD0708>, <shapely.geometry.polygon.Polygon object at 0x0000020282CD0748>, <shapely.geometry.polygon.Polygon object at 0x0000020282CD0888>, <shapely.geometry.polygon.Polygon object at 0x0000020282CD08C8>, <shapely.geometry.polygon.Polygon object at 0x0000020282CD0908>, <shapely.geometry.polygon.Polygon object at 0x0000020282CD0948>, <shapely.geometry.polygon.Polygon object at 0x0000020282CD0988>, <shapely.geometry.polygon.Polygon object at 0x0000020282CD09C8>, <shapely.geometry.polygon.Polygon object at 0x0000020282CD0A08>], 'person, individual, someone, somebody, mortal, soul'), ([<shapely.geometry.polygon.Polygon object at 0x0000020282CD0048>, <shapely.geometry.polygon.Polygon object at 0x0000020282CD0A88>, <shapely.geometry.polygon.Polygon object at 0x0000020282CD0AC8>, <shapely.geometry.polygon.Polygon object at 0x0000020282CD0B08>], 'door, double door'), ([<shapely.geometry.polygon.Polygon object at 0x0000020282CD0608>, <shapely.geometry.polygon.Polygon object at 0x0000020282CD0B88>, <shapely.geometry.polygon.Polygon object at 0x0000020282CD0BC8>, <shapely.geometry.polygon.Polygon object at 0x0000020282CD0C08>, <shapely.geometry.polygon.Polygon object at 0x0000020282CD0C48>, <shapely.geometry.polygon.Polygon object at 0x0000020282CD0648>, <shapely.geometry.polygon.Polygon object at 0x0000020282CD0D08>, <shapely.geometry.polygon.Polygon object at 0x0000020282CD0D48>, <shapely.geometry.polygon.Polygon object at 0x0000020282CD0D88>, <shapely.geometry.polygon.Polygon object at 0x0000020282CD0C88>, <shapely.geometry.polygon.Polygon object at 0x0000020282CD0CC8>, <shapely.geometry.polygon.Polygon object at 0x0000020282CD0E08>, <shapely.geometry.polygon.Polygon object at 0x0000020282CD0E48>, <shapely.geometry.polygon.Polygon object at 0x0000020282CD0E88>, <shapely.geometry.polygon.Polygon object at 0x0000020282CD0EC8>, <shapely.geometry.polygon.Polygon object at 0x0000020282CD0F08>, <shapely.geometry.polygon.Polygon object at 0x0000020282CD0F48>, <shapely.geometry.polygon.Polygon object at 0x0000020282CD0F88>, <shapely.geometry.polygon.Polygon object at 0x0000020282CD0FC8>, <shapely.geometry.polygon.Polygon object at 0x0000020282CD0DC8>, <shapely.geometry.polygon.Polygon object at 0x0000020282CD0848>, <shapely.geometry.polygon.Polygon object at 0x0000020282CD0B48>, <shapely.geometry.polygon.Polygon object at 0x0000020282CD4108>, <shapely.geometry.polygon.Polygon object at 0x0000020282CD4148>, <shapely.geometry.polygon.Polygon object at 0x0000020282CD4188>, <shapely.geometry.polygon.Polygon object at 0x0000020282CD41C8>, <shapely.geometry.polygon.Polygon object at 0x0000020282CD4208>, <shapely.geometry.polygon.Polygon object at 0x0000020282CD4248>, <shapely.geometry.polygon.Polygon object at 0x0000020282CD4288>, <shapely.geometry.polygon.Polygon object at 0x0000020282CD42C8>, <shapely.geometry.polygon.Polygon object at 0x0000020282CD4308>, <shapely.geometry.polygon.Polygon object at 0x0000020282CD4348>, <shapely.geometry.polygon.Polygon object at 0x0000020282CD4388>, <shapely.geometry.polygon.Polygon object at 0x0000020282CD43C8>, <shapely.geometry.polygon.Polygon object at 0x0000020282CD4408>, <shapely.geometry.polygon.Polygon object at 0x0000020282CD4448>, <shapely.geometry.polygon.Polygon object at 0x0000020282CD4488>, <shapely.geometry.polygon.Polygon object at 0x0000020282CD44C8>, <shapely.geometry.polygon.Polygon object at 0x0000020282CD4508>, <shapely.geometry.polygon.Polygon object at 0x0000020282CD4548>, <shapely.geometry.polygon.Polygon object at 0x0000020282CD4588>, <shapely.geometry.polygon.Polygon object at 0x0000020282CD45C8>, <shapely.geometry.polygon.Polygon object at 0x0000020282CD4608>, <shapely.geometry.polygon.Polygon object at 0x0000020282CD4648>, <shapely.geometry.polygon.Polygon object at 0x0000020282CD4688>, <shapely.geometry.polygon.Polygon object at 0x0000020282CD46C8>, <shapely.geometry.polygon.Polygon object at 0x0000020282CD4708>, <shapely.geometry.polygon.Polygon object at 0x0000020282CD4748>, <shapely.geometry.polygon.Polygon object at 0x0000020282CD4788>, <shapely.geometry.polygon.Polygon object at 0x0000020282CD47C8>, <shapely.geometry.polygon.Polygon object at 0x0000020282CD4808>, <shapely.geometry.polygon.Polygon object at 0x0000020282CD4848>, <shapely.geometry.polygon.Polygon object at 0x0000020282CD4888>, <shapely.geometry.polygon.Polygon object at 0x0000020282CD48C8>, <shapely.geometry.polygon.Polygon object at 0x0000020282CD4908>], 'water'), ([<shapely.geometry.polygon.Polygon object at 0x0000020282CD0088>], 'sea'), ([<shapely.geometry.polygon.Polygon object at 0x0000020281C99808>, <shapely.geometry.polygon.Polygon object at 0x0000020282CD4A08>, <shapely.geometry.polygon.Polygon object at 0x0000020282CD4A48>, <shapely.geometry.polygon.Polygon object at 0x0000020282CD4A88>, <shapely.geometry.polygon.Polygon object at 0x0000020282CD4AC8>, <shapely.geometry.polygon.Polygon object at 0x0000020282CD4048>, <shapely.geometry.polygon.Polygon object at 0x0000020282CD4B88>, <shapely.geometry.polygon.Polygon object at 0x0000020282CD4BC8>, <shapely.geometry.polygon.Polygon object at 0x0000020282CD4C08>, <shapely.geometry.polygon.Polygon object at 0x0000020282CD4B08>, <shapely.geometry.polygon.Polygon object at 0x0000020282CD4B48>, <shapely.geometry.polygon.Polygon object at 0x0000020282CD4C88>, <shapely.geometry.polygon.Polygon object at 0x0000020282CD4CC8>, <shapely.geometry.polygon.Polygon object at 0x0000020282CD4D08>, <shapely.geometry.polygon.Polygon object at 0x0000020282CD4D48>, <shapely.geometry.polygon.Polygon object at 0x0000020282CD4D88>, <shapely.geometry.polygon.Polygon object at 0x0000020282CD4DC8>, <shapely.geometry.polygon.Polygon object at 0x0000020282CD4E08>, <shapely.geometry.polygon.Polygon object at 0x0000020282CD4E48>, <shapely.geometry.polygon.Polygon object at 0x0000020282CD4E88>, <shapely.geometry.polygon.Polygon object at 0x0000020282CD4EC8>], 'rock, stone'), ([<shapely.geometry.polygon.Polygon object at 0x0000020282CD4948>, <shapely.geometry.polygon.Polygon object at 0x0000020282CD4F48>, <shapely.geometry.polygon.Polygon object at 0x0000020282CD4F88>, <shapely.geometry.polygon.Polygon object at 0x0000020282CD4FC8>], 'animal, animate being, beast, brute, creature, fauna')]\n"
     ]
    }
   ],
   "source": [
    "print(output)"
   ]
  },
  {
   "cell_type": "code",
   "execution_count": 11,
   "metadata": {},
   "outputs": [],
   "source": [
    "true_output = simple_rule_based_obfuscation(output)"
   ]
  },
  {
   "cell_type": "code",
   "execution_count": 12,
   "metadata": {},
   "outputs": [
    {
     "name": "stdout",
     "output_type": "stream",
     "text": [
      "[([<shapely.geometry.polygon.Polygon object at 0x0000020282CCDD08>, <shapely.geometry.polygon.Polygon object at 0x0000020282CCD108>, <shapely.geometry.polygon.Polygon object at 0x0000020282CCD088>, <shapely.geometry.polygon.Polygon object at 0x0000020282CCD048>, <shapely.geometry.polygon.Polygon object at 0x0000020282CD06C8>, <shapely.geometry.polygon.Polygon object at 0x0000020282CD0688>, <shapely.geometry.polygon.Polygon object at 0x0000020282CD0788>, <shapely.geometry.polygon.Polygon object at 0x0000020282CD07C8>, <shapely.geometry.polygon.Polygon object at 0x0000020282CD0808>, <shapely.geometry.polygon.Polygon object at 0x0000020282CD0708>, <shapely.geometry.polygon.Polygon object at 0x0000020282CD0748>, <shapely.geometry.polygon.Polygon object at 0x0000020282CD0888>, <shapely.geometry.polygon.Polygon object at 0x0000020282CD08C8>, <shapely.geometry.polygon.Polygon object at 0x0000020282CD0908>, <shapely.geometry.polygon.Polygon object at 0x0000020282CD0948>, <shapely.geometry.polygon.Polygon object at 0x0000020282CD0988>, <shapely.geometry.polygon.Polygon object at 0x0000020282CD09C8>, <shapely.geometry.polygon.Polygon object at 0x0000020282CD0A08>], 'person, individual, someone, somebody, mortal, soul')]\n"
     ]
    }
   ],
   "source": [
    "print(true_output)"
   ]
  },
  {
   "cell_type": "code",
   "execution_count": 13,
   "metadata": {},
   "outputs": [],
   "source": [
    "with open(Path('../test2017.json'), 'r') as f:\n",
    "    ground_truth = json.load(f)\n",
    "ground_truth = ground_truth['annotations']"
   ]
  },
  {
   "cell_type": "code",
   "execution_count": null,
   "metadata": {},
   "outputs": [],
   "source": [
    "eval_u.evaluate(ground_truth, true_output, evaluation_type, parameter_interval)"
   ]
  }
 ],
 "metadata": {
  "kernelspec": {
   "display_name": "privacy_image_3_7",
   "language": "python",
   "name": "privacy_image_3_7"
  }
 },
 "nbformat": 4,
 "nbformat_minor": 4
}
