{
 "cells": [
  {
   "cell_type": "code",
   "execution_count": 1,
   "metadata": {},
   "outputs": [
    {
     "name": "stderr",
     "output_type": "stream",
     "text": [
      "Using TensorFlow backend.\n"
     ]
    }
   ],
   "source": [
    "import os\n",
    "from pathlib import Path\n",
    "from PIL import Image\n",
    "import cv2\n",
    "import numpy as np\n",
    "import json\n",
    "from shapely.geometry import Polygon\n",
    "import image_slicer\n",
    "\n",
    "# DeepLab code:\n",
    "# taken from https://gluon-cv.mxnet.io/build/examples_segmentation/demo_deeplab.html\n",
    "# dataset description https://groups.csail.mit.edu/vision/datasets/ADE20K/, https://github.com/dmlc/gluon-cv/blob/master/gluoncv/data/ade20k/segmentation.py\n",
    "# deeplab code https://github.com/dmlc/gluon-cv/blob/master/gluoncv/model_zoo/deeplabv3.py\n",
    "\n",
    "import mxnet as mx\n",
    "from mxnet import image\n",
    "from mxnet.gluon.data.vision import transforms\n",
    "import gluoncv\n",
    "from gluoncv.data.transforms.presets.segmentation import test_transform\n",
    "# using cpu\n",
    "ctx = mx.cpu(0)\n",
    "\n",
    "# OCR code\n",
    "import pytesseract\n",
    "from pytesseract import Output\n",
    "\n",
    "\n",
    "# If you don't have tesseract executable in your PATH, include the following:\n",
    "pytesseract.pytesseract.tesseract_cmd = r'C:\\Program Files\\Tesseract-OCR\\tesseract.exe' # Path('C:/Program Files\\ Tesseract-OCR\\ tesseract').as_posix()\n",
    "\n",
    "\n",
    "# Scene recognition imports\n",
    "from Keras_VGG16_places365.vgg16_places_365 import VGG16_Places365\n",
    "from cv2 import resize\n",
    "\n",
    "\n",
    "import evaluation_utils as eval_u\n",
    "import deeplab_utils as dl_u"
   ]
  },
  {
   "cell_type": "code",
   "execution_count": 2,
   "metadata": {},
   "outputs": [],
   "source": [
    "#image_list_deeplab, list_image_names_deeplab, list_ratio = eval_u.prepare_dataset('../small_10_test2017/', 'deeplab', True)\n",
    "image_list_deeplab, list_image_names_deeplab, list_ratio = eval_u.prepare_dataset('../1_test2017/', 'deeplab', True)"
   ]
  },
  {
   "cell_type": "code",
   "execution_count": 3,
   "metadata": {},
   "outputs": [
    {
     "name": "stdout",
     "output_type": "stream",
     "text": [
      "Currently treating image number  1\n",
      "predicting\n",
      "calculating labels\n",
      "0.0\n",
      "calculating probabilities.\n",
      "37.20501136779785\n"
     ]
    }
   ],
   "source": [
    "model_deeplab = eval_u.load_model('deeplab')\n",
    "output_pred_deeplab = eval_u.get_predictions(image_list_deeplab, 'deeplab', model_deeplab)"
   ]
  },
  {
   "cell_type": "code",
   "execution_count": 4,
   "metadata": {},
   "outputs": [],
   "source": [
    "#print(output_pred_deeplab[0].shape)"
   ]
  },
  {
   "cell_type": "code",
   "execution_count": 5,
   "metadata": {},
   "outputs": [
    {
     "name": "stdout",
     "output_type": "stream",
     "text": [
      "(512, 682)\n",
      "<class 'mxnet.ndarray.ndarray.NDArray'>\n"
     ]
    }
   ],
   "source": [
    "#outp = mx.nd.squeeze(mx.nd.argmax(output_pred_deeplab[0], 1)).asnumpy()\n",
    "print(output_pred_deeplab[0][1].shape)\n",
    "print(type(output_pred_deeplab[0][1]))\n",
    "#print(np.unique(output_pred_deeplab[0][1]))"
   ]
  },
  {
   "cell_type": "code",
   "execution_count": 6,
   "metadata": {},
   "outputs": [
    {
     "name": "stdout",
     "output_type": "stream",
     "text": [
      "TODO: manage resizing of images.\n",
      "Creating masks.\n",
      "Number of masks to create:  (8,)\n",
      "Creating mask for class  0.0\n",
      "Creating mask for class  12.0\n",
      "Creating mask for class  22.0\n",
      "Creating mask for class  37.0\n",
      "Creating mask for class  43.0\n",
      "Creating mask for class  45.0\n",
      "Creating mask for class  69.0\n",
      "Creating mask for class  121.0\n",
      "Creating polygons.\n",
      "--getting contour\n",
      "--transforming contour to poygon.\n",
      "--getting contour\n",
      "--transforming contour to poygon.\n",
      "--getting contour\n",
      "--transforming contour to poygon.\n",
      "--getting contour\n",
      "--transforming contour to poygon.\n",
      "--getting contour\n",
      "--transforming contour to poygon.\n",
      "--getting contour\n",
      "--transforming contour to poygon.\n",
      "--getting contour\n",
      "--transforming contour to poygon.\n",
      "--getting contour\n",
      "--transforming contour to poygon.\n"
     ]
    }
   ],
   "source": [
    "output = dl_u.deeplab_pred_to_output(output_pred_deeplab[0][1])"
   ]
  },
  {
   "cell_type": "code",
   "execution_count": null,
   "metadata": {},
   "outputs": [],
   "source": [
    "def simple_rule_based_obfuscation(output_deeplab):\n",
    "    # Later we can save other things like the \"sky\" to decide to hide it\n",
    "    true_output = []\n",
    "    for poly in output_deeplab:\n",
    "        if (poly[1] == \"person, individual, someone, somebody, mortal, soul\") or (poly[1] == \"bookcase\") or (poly[1] == \"computer, computing machine, computing device, data processor, \") or (poly[1] == \"trade name, brand name, brand, marque\") :\n",
    "            true_output.append(poly)\n",
    "    return true_output"
   ]
  },
  {
   "cell_type": "code",
   "execution_count": null,
   "metadata": {},
   "outputs": [],
   "source": [
    "print(type(output_pred_deeplab[0]))"
   ]
  },
  {
   "cell_type": "code",
   "execution_count": 7,
   "metadata": {},
   "outputs": [
    {
     "name": "stdout",
     "output_type": "stream",
     "text": [
      "[([<shapely.geometry.polygon.Polygon object at 0x0000023464656648>, <shapely.geometry.polygon.Polygon object at 0x00000234633B0208>, <shapely.geometry.polygon.Polygon object at 0x00000234636C5D48>, <shapely.geometry.polygon.Polygon object at 0x0000023464656288>, <shapely.geometry.polygon.Polygon object at 0x0000023464656088>, <shapely.geometry.polygon.Polygon object at 0x0000023464656208>, <shapely.geometry.polygon.Polygon object at 0x0000023464656888>, <shapely.geometry.polygon.Polygon object at 0x0000023464656148>, <shapely.geometry.polygon.Polygon object at 0x000002346463FEC8>, <shapely.geometry.polygon.Polygon object at 0x0000023464656688>, <shapely.geometry.polygon.Polygon object at 0x0000023464656708>, <shapely.geometry.polygon.Polygon object at 0x0000023464656748>, <shapely.geometry.polygon.Polygon object at 0x0000023464656AC8>, <shapely.geometry.polygon.Polygon object at 0x00000234646553C8>, <shapely.geometry.polygon.Polygon object at 0x0000023464655288>, <shapely.geometry.polygon.Polygon object at 0x0000023464655248>, <shapely.geometry.polygon.Polygon object at 0x0000023464655188>, <shapely.geometry.polygon.Polygon object at 0x0000023464655508>, <shapely.geometry.polygon.Polygon object at 0x00000234646555C8>], 'wall'), ([<shapely.geometry.polygon.Polygon object at 0x0000023464656408>], 'person, individual, someone, somebody, mortal, soul'), ([<shapely.geometry.polygon.Polygon object at 0x0000023464655348>, <shapely.geometry.polygon.Polygon object at 0x0000023464655FC8>, <shapely.geometry.polygon.Polygon object at 0x000002346318B108>, <shapely.geometry.polygon.Polygon object at 0x0000023464655388>], 'painting, picture'), ([<shapely.geometry.polygon.Polygon object at 0x0000023464656488>, <shapely.geometry.polygon.Polygon object at 0x00000234646564C8>], 'bathtub, bathing tub, bath, tub'), ([<shapely.geometry.polygon.Polygon object at 0x0000023464656448>, <shapely.geometry.polygon.Polygon object at 0x0000023464655CC8>, <shapely.geometry.polygon.Polygon object at 0x000002346463FF48>, <shapely.geometry.polygon.Polygon object at 0x00000234646849C8>, <shapely.geometry.polygon.Polygon object at 0x0000023464684888>, <shapely.geometry.polygon.Polygon object at 0x0000023464684988>, <shapely.geometry.polygon.Polygon object at 0x00000234646841C8>, <shapely.geometry.polygon.Polygon object at 0x0000023464684188>, <shapely.geometry.polygon.Polygon object at 0x0000023464684148>], 'signboard, sign'), ([<shapely.geometry.polygon.Polygon object at 0x0000023464684088>, <shapely.geometry.polygon.Polygon object at 0x0000023464684AC8>, <shapely.geometry.polygon.Polygon object at 0x0000023464684B08>, <shapely.geometry.polygon.Polygon object at 0x0000023464684B48>, <shapely.geometry.polygon.Polygon object at 0x0000023464684B88>, <shapely.geometry.polygon.Polygon object at 0x0000023464684A88>, <shapely.geometry.polygon.Polygon object at 0x0000023464684C48>], 'counter'), ([<shapely.geometry.polygon.Polygon object at 0x0000023464684A48>, <shapely.geometry.polygon.Polygon object at 0x0000023464684948>, <shapely.geometry.polygon.Polygon object at 0x0000023464684CC8>, <shapely.geometry.polygon.Polygon object at 0x0000023464684D08>], 'bench'), ([<shapely.geometry.polygon.Polygon object at 0x0000023464684C08>, <shapely.geometry.polygon.Polygon object at 0x0000023464684DC8>, <shapely.geometry.polygon.Polygon object at 0x0000023464684E08>, <shapely.geometry.polygon.Polygon object at 0x0000023464684E48>, <shapely.geometry.polygon.Polygon object at 0x0000023464684E88>, <shapely.geometry.polygon.Polygon object at 0x0000023464684D88>, <shapely.geometry.polygon.Polygon object at 0x0000023464684F48>], 'step, stair')]\n"
     ]
    }
   ],
   "source": [
    "print(output)"
   ]
  },
  {
   "cell_type": "code",
   "execution_count": null,
   "metadata": {},
   "outputs": [],
   "source": [
    "true_output = simple_rule_based_obfuscation(output)"
   ]
  },
  {
   "cell_type": "code",
   "execution_count": null,
   "metadata": {},
   "outputs": [],
   "source": [
    "print(true_output)"
   ]
  },
  {
   "cell_type": "code",
   "execution_count": null,
   "metadata": {},
   "outputs": [],
   "source": [
    "with open(Path('../test2017.json'), 'r') as f:\n",
    "    ground_truth = json.load(f)\n",
    "ground_truth = ground_truth['annotations']"
   ]
  },
  {
   "cell_type": "code",
   "execution_count": null,
   "metadata": {},
   "outputs": [],
   "source": [
    "eval_u.evaluate(ground_truth, true_output, evaluation_type, parameter_interval)"
   ]
  }
 ],
 "metadata": {
  "kernelspec": {
   "display_name": "privacy_image_3_7",
   "language": "python",
   "name": "privacy_image_3_7"
  },
  "language_info": {
   "codemirror_mode": {
    "name": "ipython",
    "version": 3
   },
   "file_extension": ".py",
   "mimetype": "text/x-python",
   "name": "python",
   "nbconvert_exporter": "python",
   "pygments_lexer": "ipython3",
   "version": "3.7.6"
  }
 },
 "nbformat": 4,
 "nbformat_minor": 4
}
